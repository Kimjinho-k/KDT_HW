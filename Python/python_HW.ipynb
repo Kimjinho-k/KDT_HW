{
 "cells": [
  {
   "cell_type": "markdown",
   "metadata": {},
   "source": [
    "(1) 프로젝트 명 : 네이버 뉴스 자동 수집 후 메일 발송기 \n",
    " \n",
    "(2) 프로젝트 설명(200자 이내) :\n",
    " 특정 키워드에 해당하는 뉴스 기사를 네이버에서 찾아\n",
    " 기사 제목, 링크를 엑셀 파일로 만들어\n",
    " 미리 만들어둔 엑셀 파일에 있는 메일링 대상자에게 메일로 전달합니다.\n",
    " \n",
    "(3) 프로젝트 과제 상세 :\n",
    " - 사용자가 원하는 키워드 입력받기\n",
    " - 네이버 뉴스를 수집해 주는 모듈을 이용해서 해당 키워드 뉴스 수집 후 엑셀 파일에 제목, 링크, 요약문 기록하기\n",
    " - 수집 데이터 엑셀 파일을 메일링 대상자 엑셀 파일을 읽어 대상자들에게 메일 보내기\n",
    " \n",
    "(4) 점검 및 합격 기준표 :\n",
    " - 해당 파트를 수강하면서 사용한 문법과 기능을 활용할 수 있어야 합니다.\n",
    " - 전체적인 업무의 흐름을 이해하고 작성하여야 합니다.\n",
    " - 각 단계마다 주어진 과제 코드를 완성하여야 합니다.\n"
   ]
  },
  {
   "cell_type": "markdown",
   "metadata": {},
   "source": [
    "#### 아래 코드를 실행해서 NaverNewsCrawler 모듈을 임포트하세요."
   ]
  },
  {
   "cell_type": "code",
   "execution_count": 1,
   "metadata": {},
   "outputs": [
    {
     "name": "stdout",
     "output_type": "stream",
     "text": [
      "Requirement already satisfied: requests in c:\\users\\ssi03\\appdata\\local\\programs\\python\\python39\\lib\\site-packages (2.26.0)\n",
      "Requirement already satisfied: charset-normalizer~=2.0.0 in c:\\users\\ssi03\\appdata\\local\\programs\\python\\python39\\lib\\site-packages (from requests) (2.0.4)\n",
      "Requirement already satisfied: certifi>=2017.4.17 in c:\\users\\ssi03\\appdata\\local\\programs\\python\\python39\\lib\\site-packages (from requests) (2021.5.30)\n",
      "Requirement already satisfied: urllib3<1.27,>=1.21.1 in c:\\users\\ssi03\\appdata\\local\\programs\\python\\python39\\lib\\site-packages (from requests) (1.26.6)\n",
      "Requirement already satisfied: idna<4,>=2.5 in c:\\users\\ssi03\\appdata\\local\\programs\\python\\python39\\lib\\site-packages (from requests) (3.2)\n",
      "Requirement already satisfied: beautifulsoup4 in c:\\users\\ssi03\\appdata\\local\\programs\\python\\python39\\lib\\site-packages (4.9.3)\n",
      "Requirement already satisfied: soupsieve>1.2 in c:\\users\\ssi03\\appdata\\local\\programs\\python\\python39\\lib\\site-packages (from beautifulsoup4) (2.2.1)\n"
     ]
    }
   ],
   "source": [
    "# 크롤러 코드를 위한 모듈 설치\n",
    "!pip install requests\n",
    "!pip install beautifulsoup4"
   ]
  },
  {
   "cell_type": "code",
   "execution_count": 2,
   "metadata": {},
   "outputs": [],
   "source": [
    "from NaverNewsCrawler import NaverNewsCrawler"
   ]
  },
  {
   "cell_type": "code",
   "execution_count": null,
   "metadata": {},
   "outputs": [],
   "source": []
  },
  {
   "cell_type": "markdown",
   "metadata": {},
   "source": [
    "#### 사용자로 부터 기사 수집을 원하는 키워드를 input을 이용해 입력받아 ? 부분에 넣으세요"
   ]
  },
  {
   "cell_type": "code",
   "execution_count": 3,
   "metadata": {},
   "outputs": [
    {
     "name": "stdout",
     "output_type": "stream",
     "text": [
      "올림픽\n"
     ]
    }
   ],
   "source": [
    "keyword = input()"
   ]
  },
  {
   "cell_type": "code",
   "execution_count": 4,
   "metadata": {},
   "outputs": [],
   "source": [
    "crawler = NaverNewsCrawler(keyword)"
   ]
  },
  {
   "cell_type": "code",
   "execution_count": null,
   "metadata": {},
   "outputs": [],
   "source": []
  },
  {
   "cell_type": "markdown",
   "metadata": {},
   "source": [
    "#### 수집한 데이터를 저장할 엑셀 파일명을 input을 이용해 입력받아 ? 부분에 넣으세요"
   ]
  },
  {
   "cell_type": "code",
   "execution_count": 5,
   "metadata": {},
   "outputs": [
    {
     "name": "stdout",
     "output_type": "stream",
     "text": [
      "huhu.xlsx\n"
     ]
    }
   ],
   "source": [
    "file_name = input()"
   ]
  },
  {
   "cell_type": "code",
   "execution_count": 6,
   "metadata": {},
   "outputs": [
    {
     "name": "stdout",
     "output_type": "stream",
     "text": [
      "올림픽에 대한 기사 수집 시작\n",
      "1 -올림픽- 다이빙 우하람, 3ｍ 스프링보드 4위…'역대 최고 성적' http://yna.kr/AKR20210803133600007?did=1195m   특별취재단 = '한국 다이빙의 간판' 우하람(23·국민체육진흥공단)이 아쉽게 올림픽 첫 메달 획득에는 실패했으나 역대 최고 성적을 일궜다. 우하람은 3일 오후 일본 도쿄 아쿠아틱스 센터에서 열린 2020 도쿄올림픽... \n",
      "2 [올림픽] 중국 배드민턴 선수 욕설 논란…대한배드민턴협회 \"공식 항의\" http://yna.kr/AKR20210803105100007?did=1195m   실점·득점 상황 관계없이 욕설 반복…김소영-공희용은 웃으며 축하해줘 특별취재단 = 2020 도쿄올림픽에서... 도쿄올림픽이 무관중으로 진행되고 있어 천칭천의 목소리는 중계를 보는 시청자들에게도 또렷이 들렸다.... \n",
      "3 -올림픽- 빛바랜 신유빈의 불꽃타…여자탁구, 독일에 역전패해 8강 탈락 http://yna.kr/AKR20210803089100007?did=1195m   도쿄올림픽을 '노메달'로 마쳤다. 신유빈(17·대한항공), 전지희(29·포스코에너지), 최효주(23·삼성생명)로... 한국 여자탁구는 2008년 베이징 대회에서 단체전 동메달을 따낸 뒤 3개 대회 연속으로 올림픽 메달을... \n",
      "4 [올림픽] 우하람, 다이빙 3m 스프링보드 4위…한국 역대 최고 성적 https://www.news1.kr/articles/?4392582   우하람은 3일 도쿄 아쿠아틱스 센터 다이빙 경기장에서 열린 도쿄 올림픽 다이빙 3m 스프링보드 결선에서... 우하람은 자신이 지난 2016 리우데자네이루 올림픽에서 기록했던 11위를 넘어 새로운 한국 최고 기록을... \n",
      "5 [도쿄올림픽]류한수 16강서 패배…韓 레슬링 45년 만에 노메달 위기 http://starin.edaily.co.kr/news/newspath.asp?newsid=01564566629143712   올림픽 레슬링 대표 류한수가 3일 일본 지바 마쿠하리 메세 A홀에서 열린 도쿄올림픽 레슬링 그레코로만형 남자 67kg급 16강전에서 이집트의 무함마드 엘 사예드에 패한 뒤 자리를 떠나고 있다. 사진=연합뉴스[이데일리... \n",
      "6 [올림픽] 레슬링 맏형 류한수, 1분 40초 동안 눈물만 흘렸다 http://yna.kr/AKR20210803092300007?did=1195m   올림픽 16강전서 한 점 차 석패 \"이번 올림픽이 마지막 무대\" \"김현우에게 미안해\" 특별취재단 = \"죄송합니다.\" 이 말 한마디를 하기까지 1분 40초가 걸렸다. 근육질의 상남자, 레슬링 대표팀 맏형 류한수(33·삼성생명)는... \n",
      "7 [올림픽] 다이빙 최고 성적 우하람 \"4위도 기쁘지만 만족하지 않겠다\" http://yna.kr/AKR20210803144900007?did=1195m   3ｍ 스프링보드서 한국 다이빙 역대 최고 성적 4위 특별취재단 = '한국 다이빙의 간판' 우하람(23·국민체육진흥공단)이 아쉽게 올림픽 첫 메달 획득에는 실패했으나 역대 최고 성적이라는 새역사를 또 썼다. 그는 올림픽... \n",
      "8 ‘10점 만점 신궁 비법’은…올림픽 3관왕 안산 금의환향 http://news.kmib.co.kr/article/view.asp?arcid=0016129319&code=61121111&cp=nv   “언제나 긍정적 마음으로 활시위를 당겨라” 2020 도쿄올림픽 양궁 3관왕 안산(20·광주여대)이 3일 광주의... 이 학교 교사와 학생들의 한국 최초로 하계 올림픽 단일 대회 3관왕의 위업을 달성한 안산의 귀향을 지켜봤다.... \n",
      "9 [올림픽] kt 고영표, 한일전 선발 중책…일본 선발은 '괴물' 야마모토 http://yna.kr/AKR20210803158700007?did=1195m   도쿄올림픽 준결승 일본전에 선발 출격한다. 한국야구위원회(KBO)에 따르면, 고영표는 4일 일본 가나가와현... 그는 대표팀의 에이스로 도쿄올림픽 첫 경기인 도미니카 공화국전에 선발 등판했는데, 6이닝 2피안타... \n",
      "10 [올림픽] 모교 찾은 안산 \"훌륭한 선수로 성장해 같이 운동하자\" http://yna.kr/AKR20210803084600054?did=1195m   \" 2020 도쿄올림픽 3관왕에 오른 양궁 대표팀 선수 안산이 3일 광주의 모교들을 잇달아 방문해 덕담을 전했다.... 여름방학인데도 많은 선생님과 학생이 학교를 찾아 올림픽 양궁 사상 처음이자, 한국 선수 최초 하계올림픽... \n",
      "huhu.xlsx에 데이터 저장 완료\n",
      "올림픽에 대한 기사 수집 완료\n"
     ]
    }
   ],
   "source": [
    "crawler.get_news(file_name)"
   ]
  },
  {
   "cell_type": "code",
   "execution_count": null,
   "metadata": {},
   "outputs": [],
   "source": []
  },
  {
   "cell_type": "markdown",
   "metadata": {},
   "source": [
    "#### 아래코드를 실행해 이메일 발송 기능에 필요한 모듈을 임포트하세요."
   ]
  },
  {
   "cell_type": "code",
   "execution_count": 7,
   "metadata": {},
   "outputs": [],
   "source": [
    "from email.mime.text import MIMEText\n",
    "from email.mime.multipart import MIMEMultipart\n",
    "import smtplib\n",
    "import re"
   ]
  },
  {
   "cell_type": "code",
   "execution_count": null,
   "metadata": {},
   "outputs": [],
   "source": []
  },
  {
   "cell_type": "markdown",
   "metadata": {},
   "source": [
    "#### gmail 발송 기능에 필요한 계정 정보를 아래 코드에 입력하세요."
   ]
  },
  {
   "cell_type": "code",
   "execution_count": 8,
   "metadata": {},
   "outputs": [],
   "source": [
    "SMTP_SERVER = 'smtp.gmail.com'\n",
    "SMTP_PORT = 465\n",
    "SMTP_USER = 'ssi03029@gmail.com'\n",
    "SMTP_PASSWORD = 'dkfktl930@'"
   ]
  },
  {
   "cell_type": "code",
   "execution_count": null,
   "metadata": {},
   "outputs": [],
   "source": []
  },
  {
   "cell_type": "markdown",
   "metadata": {},
   "source": [
    "#### 아래 코드를 실행해 메일 발송에 필요한 send_mail 함수를 만드세요."
   ]
  },
  {
   "cell_type": "code",
   "execution_count": 9,
   "metadata": {},
   "outputs": [],
   "source": [
    "def send_mail(name, addr, subject, contents, attachment=None):\n",
    "    if not re.match('(^[a-zA-Z0-9_.-]+@[a-zA-Z0-9-]+\\.[a-zA-Z0-9-.]+$)', addr):\n",
    "        print('Wrong email')\n",
    "        return\n",
    "\n",
    "    msg = MIMEMultipart('alternative')\n",
    "    if attachment:\n",
    "        msg = MIMEMultipart('mixed')\n",
    "\n",
    "    msg['From'] = SMTP_USER\n",
    "    msg['To'] = addr\n",
    "    msg['Subject'] = name + '님, ' + subject\n",
    "\n",
    "    text = MIMEText(contents, _charset='utf-8')\n",
    "    msg.attach(text)\n",
    "\n",
    "    if attachment:\n",
    "        from email.mime.base import MIMEBase\n",
    "        from email import encoders\n",
    "\n",
    "        file_data = MIMEBase('application', 'octect-stream')\n",
    "        file_data.set_payload(open(attachment, 'rb').read())\n",
    "        encoders.encode_base64(file_data)\n",
    "\n",
    "        import os\n",
    "        filename = os.path.basename(attachment)\n",
    "        file_data.add_header('Content-Disposition', 'attachment; filename=\"'+filename+'\"')\n",
    "        msg.attach(file_data)\n",
    "    \n",
    "    smtp = smtplib.SMTP_SSL(SMTP_SERVER, SMTP_PORT)\n",
    "    smtp.login(SMTP_USER, SMTP_PASSWORD)\n",
    "    smtp.sendmail(SMTP_USER, addr, msg.as_string())\n",
    "    smtp.close()"
   ]
  },
  {
   "cell_type": "code",
   "execution_count": null,
   "metadata": {},
   "outputs": [],
   "source": []
  },
  {
   "cell_type": "markdown",
   "metadata": {},
   "source": [
    "#### 프로젝트 폴더에 있는 email_list.xlsx 파일에 이메일 받을 사람들의 정보를 입력하세요."
   ]
  },
  {
   "cell_type": "code",
   "execution_count": null,
   "metadata": {},
   "outputs": [],
   "source": []
  },
  {
   "cell_type": "code",
   "execution_count": null,
   "metadata": {},
   "outputs": [],
   "source": []
  },
  {
   "cell_type": "markdown",
   "metadata": {},
   "source": [
    "#### 엑셀 파일의 정보를 읽어올 수 있는 모듈을 import하세요."
   ]
  },
  {
   "cell_type": "code",
   "execution_count": 10,
   "metadata": {},
   "outputs": [],
   "source": [
    "from openpyxl import load_workbook"
   ]
  },
  {
   "cell_type": "code",
   "execution_count": null,
   "metadata": {},
   "outputs": [],
   "source": []
  },
  {
   "cell_type": "markdown",
   "metadata": {},
   "source": [
    "#### email_list.xlsx 파일을 읽어와 해당 사람들에게 수집한 뉴스 정보 엑셀 파일을 send_mail 함수를 이용해 전송하세요."
   ]
  },
  {
   "cell_type": "code",
   "execution_count": 11,
   "metadata": {},
   "outputs": [
    {
     "name": "stdout",
     "output_type": "stream",
     "text": [
      "Wrong email\n",
      "Wrong email\n",
      "Wrong email\n",
      "Wrong email\n",
      "Wrong email\n",
      "Wrong email\n",
      "Wrong email\n",
      "Wrong email\n",
      "Wrong email\n",
      "Wrong email\n",
      "Wrong email\n"
     ]
    }
   ],
   "source": [
    "wb = load_workbook('email_list.xlsx')\n",
    "ws = wb.active\n",
    "wr = ws.rows\n",
    "\n",
    "for row in ws.iter_rows():\n",
    "    name = row[0].value\n",
    "    addr = row[1].value\n",
    "    subject = row[2].value\n",
    "    contents = row[3].value\n",
    "    attachment = row[4].value\n",
    "    send_mail(str(name), str(addr), str(subject), str(contents), str(attachment))"
   ]
  },
  {
   "cell_type": "code",
   "execution_count": 19,
   "metadata": {},
   "outputs": [
    {
     "name": "stdout",
     "output_type": "stream",
     "text": [
      "Wrong email\n"
     ]
    }
   ],
   "source": []
  },
  {
   "cell_type": "code",
   "execution_count": null,
   "metadata": {},
   "outputs": [],
   "source": []
  }
 ],
 "metadata": {
  "kernelspec": {
   "display_name": "Python 3 (ipykernel)",
   "language": "python",
   "name": "python3"
  },
  "language_info": {
   "codemirror_mode": {
    "name": "ipython",
    "version": 3
   },
   "file_extension": ".py",
   "mimetype": "text/x-python",
   "name": "python",
   "nbconvert_exporter": "python",
   "pygments_lexer": "ipython3",
   "version": "3.9.6"
  }
 },
 "nbformat": 4,
 "nbformat_minor": 2
}
